{
  "nbformat": 4,
  "nbformat_minor": 0,
  "metadata": {
    "colab": {
      "provenance": []
    },
    "kernelspec": {
      "name": "python3",
      "display_name": "Python 3"
    },
    "language_info": {
      "name": "python"
    }
  },
  "cells": [
    {
      "cell_type": "markdown",
      "source": [
        "# Task - 1: Implementation of MCP Neurons"
      ],
      "metadata": {
        "id": "QZ_6eYhRLPzv"
      }
    },
    {
      "cell_type": "markdown",
      "source": [
        "# Handcraft a Threshold values for ”AND” function"
      ],
      "metadata": {
        "id": "NXsg6lR1MmV4"
      }
    },
    {
      "cell_type": "code",
      "execution_count": null,
      "metadata": {
        "id": "lROHjVRrLMIE"
      },
      "outputs": [],
      "source": [
        "def MCP_Neurons_AND(X1, X2, T):\n",
        "  \"\"\"\n",
        "  This functions implements basic AND operations with MCP Neuron for two inputs.\n",
        "  Arguments:\n",
        "  Inputs:\n",
        "  X1 (1 nd array): An array of binary values.\n",
        "  X2 (1 nd array): An array of binary values.\n",
        "  Output:\n",
        "  state_neuron(1D-list): An state of neuron 1 0r 0 for the particular inputs.\n",
        "  \"\"\"\n",
        "  assert len(X1) == len(X2)\n",
        "  aggregated_input=[x1+x2 for x1,x2 in zip(X1,X2)]\n",
        "  state_neuron=[]\n",
        "  for value in aggregated_input:\n",
        "    if value>=T:\n",
        "      state_neuron.append(1)\n",
        "    else:\n",
        "      state_neuron.append(0)\n",
        "  return state_neuron"
      ]
    },
    {
      "cell_type": "code",
      "source": [
        "# Example usage for MCP_Neurons_AND function\n",
        "X1 = [0, 0, 1, 1]\n",
        "X2 = [0, 1, 0, 1]\n",
        "T = 2 # Threshold value\n",
        "# Call the MCP_Neurons_AND function\n",
        "result = MCP_Neurons_AND(X1, X2, T)\n",
        "# Print the result\n",
        "print(f\"Output of AND gate for inputs {X1} and {X2} with threshold {T}: {result}\")"
      ],
      "metadata": {
        "colab": {
          "base_uri": "https://localhost:8080/"
        },
        "id": "VUkAt-s5MiCx",
        "outputId": "67f0ed5b-23a2-49e2-af68-adf3c7e80bed"
      },
      "execution_count": null,
      "outputs": [
        {
          "output_type": "stream",
          "name": "stdout",
          "text": [
            "Output of AND gate for inputs [0, 0, 1, 1] and [0, 1, 0, 1] with threshold 2: [0, 0, 0, 1]\n"
          ]
        }
      ]
    },
    {
      "cell_type": "markdown",
      "source": [
        "# Handcraft a Threshold values for ”OR” function"
      ],
      "metadata": {
        "id": "xcu9LsHzMsso"
      }
    },
    {
      "cell_type": "code",
      "source": [
        "def MCP_Neurons_OR(X1, X2, T):\n",
        "  \"\"\"\n",
        "  This function implements basic OR operations with MCP Neuron for two inputs.\n",
        "  Arguments:\n",
        "  Inputs:\n",
        "  X1 (1D array): An array of binary values.\n",
        "  X2 (1D array): An array of binary values.\n",
        "  Output:\n",
        "  state_neuron (1D list): The state of the neuron (1 or 0) for the particular inputs.\n",
        "  \"\"\"\n",
        "  assert len(X1) == len(X2)\n",
        "  aggregated_input=[x1+x2 for x1,x2 in zip(X1,X2)]\n",
        "  state_neuron=[]\n",
        "  for value in aggregated_input:\n",
        "    if value>=T:\n",
        "      state_neuron.append(1)\n",
        "    else:\n",
        "      state_neuron.append(0)\n",
        "  return state_neuron"
      ],
      "metadata": {
        "id": "kHwILUSSMwtk"
      },
      "execution_count": null,
      "outputs": []
    },
    {
      "cell_type": "code",
      "source": [
        "# Example usage for MCP_Neurons_OR function\n",
        "X1 = [0, 0, 1, 1]\n",
        "X2 = [0, 1, 0, 1]\n",
        "T = 1 # Threshold value for OR gate\n",
        "# Call the MCP_Neurons_OR function\n",
        "result_or = MCP_Neurons_OR(X1, X2, T)\n",
        "# Print the result\n",
        "print(f\"Output of OR gate for inputs {X1} and {X2} with threshold {T}: {result_or}\")"
      ],
      "metadata": {
        "colab": {
          "base_uri": "https://localhost:8080/"
        },
        "id": "1rhkHZz5NM8Z",
        "outputId": "9776c94f-3151-454e-b2c2-92f80d2de291"
      },
      "execution_count": null,
      "outputs": [
        {
          "output_type": "stream",
          "name": "stdout",
          "text": [
            "Output of OR gate for inputs [0, 0, 1, 1] and [0, 1, 0, 1] with threshold 1: [0, 1, 1, 1]\n"
          ]
        }
      ]
    },
    {
      "cell_type": "markdown",
      "source": [
        "**Question - 1: List out all the limitations of MCP - Neurons.**\n",
        "Answer: Limitations of MCP is given below:\n",
        "\n",
        "1.   Linear separability: MCP neurons can only solve linearly seperable problems\n",
        "2.   Lack of Learning: MCP neurons rely on manually assigned weights and threshold, without learning mechanism.\n",
        "3. No concept of Time: MCP neurons processes static inputs and cannot handle sequential or time-dependent data.\n",
        "4. Limited activation functions: MCP neurons use only a simple step activation function, lacking modern alternatives like sigmoid or ReLU.\n",
        "5. Poor scability: Manually setting thresholds and wwights becomes impractical as the number of inputs increases."
      ],
      "metadata": {
        "id": "SH0ex8hfNTxl"
      }
    },
    {
      "cell_type": "markdown",
      "source": [
        "# Question - 2:\n",
        "Think if you can develop a logic to solve for XOR function using MCP Neuron.\n",
        "{Can you devise a if else rules.}"
      ],
      "metadata": {
        "id": "jfs6LUjGVV5w"
      }
    },
    {
      "cell_type": "markdown",
      "source": [
        "An MCP neueon cannot solve XOR directly because XOR is not a simple yes or no decision like AND or OR. However, we can devise if-else rule to implement XOR function using logical steps. Since, XOR is 1 only when inputs are different i.e. (0,1 or 1,0)."
      ],
      "metadata": {
        "id": "MJ-Jsg12U1_t"
      }
    },
    {
      "cell_type": "markdown",
      "source": [
        "## Task 2: Perceptron Algorithm for 0 vs 1 Classification."
      ],
      "metadata": {
        "id": "YcZTwX_6NX9D"
      }
    },
    {
      "cell_type": "code",
      "source": [
        "import pandas as pd\n",
        "import numpy as np\n",
        "# Load the dataset\n",
        "df_0_1 = pd.read_csv(\"/content/drive/MyDrive/AI/mnist_0_and_1.csv\")\n",
        "# Extract features and labels\n",
        "X = df_0_1.drop(columns=[\"label\"]).values # 784 pixels\n",
        "y = df_0_1[\"label\"].values # Labels (0 or 1)\n",
        "# Check the shape of the features and labels\n",
        "print(\"Feature matrix shape:\", X.shape)\n",
        "print(\"Label vector shape:\", y.shape)"
      ],
      "metadata": {
        "colab": {
          "base_uri": "https://localhost:8080/"
        },
        "id": "Bm-vKOaY8xBw",
        "outputId": "1a87ddbf-dbc2-4cbb-ae11-cf3edf0f563a"
      },
      "execution_count": null,
      "outputs": [
        {
          "output_type": "stream",
          "name": "stdout",
          "text": [
            "Feature matrix shape: (12665, 784)\n",
            "Label vector shape: (12665,)\n"
          ]
        }
      ]
    },
    {
      "cell_type": "markdown",
      "source": [
        "**Question - 1: What does the shape of X represent?**\n",
        "\n",
        "Answer: The shape of X (12665, 784) represents that it consist of 12,665 images with 784 dimensional feature vector."
      ],
      "metadata": {
        "id": "cxZp0WVy8uN-"
      }
    },
    {
      "cell_type": "markdown",
      "source": [
        "**Question - 2: What does the shape of Y represent?**\n",
        "\n",
        "Answer: The shape of Y (12665,) means it contains 12,655 labels, each of those correlating to one imahe in X. Each label is either 0 or 1 representinf the numerics in the images."
      ],
      "metadata": {
        "id": "RybK022X-dhF"
      }
    },
    {
      "cell_type": "code",
      "source": [
        "import matplotlib.pyplot as plt\n",
        "images_0=X[y==0]\n",
        "images_1=X[y==1]\n",
        "fig, axes = plt.subplots(2, 5, figsize=(10, 5))\n",
        "# Check if the arrays have the required amount of data\n",
        "if len(images_0) < 5 or len(images_1) < 5:\n",
        "  print(\"Error: Not enough images in images_0 or images_1 to plot 5 images.\")\n",
        "else:\n",
        "  for i in range(5):\n",
        "    # Plot digit 0\n",
        "    axes[0, i].imshow(images_0[i].reshape(28, 28), cmap=\"gray\")\n",
        "    axes[0, i].set_title(\"Label: 0\")\n",
        "    axes[0, i].axis(\"off\")\n",
        "    # Plot digit 1\n",
        "    axes[1, i].imshow(images_1[i].reshape(28, 28), cmap=\"gray\")\n",
        "    axes[1, i].set_title(\"Label: 1\")\n",
        "    axes[1, i].axis(\"off\")\n",
        "plt.suptitle(\"First 5 Images of 0 and 1 from ,MNIST Dataset\", fontsize=16)\n",
        "plt.show()"
      ],
      "metadata": {
        "colab": {
          "base_uri": "https://localhost:8080/",
          "height": 369
        },
        "id": "MVJJugqc_R_F",
        "outputId": "907866e9-a66b-4ab4-ca56-9f143d6babf3"
      },
      "execution_count": null,
      "outputs": [
        {
          "output_type": "display_data",
          "data": {
            "text/plain": [
              "<Figure size 1000x500 with 10 Axes>"
            ],
            "image/png": "[encoded data removed]"
          },
          "metadata": {}
        }
      ]
    },
    {
      "cell_type": "code",
      "source": [
        "# Initialize weights and bias\n",
        "weights = np.zeros(X.shape[1]) # 784 weights (one for each pixel)\n",
        "bias = 0\n",
        "learning_rate = 0.1\n",
        "epochs = 100"
      ],
      "metadata": {
        "id": "x-NWmoaxAIV6"
      },
      "execution_count": null,
      "outputs": []
    },
    {
      "cell_type": "markdown",
      "source": [
        "# Question 3:\n",
        "What does the weights array represent in this context?\n",
        "\n",
        "Answer: The weight array represents the importance of each pixel in predicting if the image is either 0 or 1."
      ],
      "metadata": {
        "id": "E8hc060bAOwK"
      }
    },
    {
      "cell_type": "markdown",
      "source": [
        "# Question 4:\n",
        "Why are we initializing the weights to zero? What effect could this have on the training process?\n",
        "\n",
        "Answer: We initialize the weight to zero for a simple approach. If the model learns that weights are zero for all inputs, this will make the training less efficient. Hence, it is effective to initialize randomly for the model to learn better and compute efficiently."
      ],
      "metadata": {
        "id": "8EDroOakAupE"
      }
    },
    {
      "cell_type": "markdown",
      "source": [
        "# Implementing a decision function"
      ],
      "metadata": {
        "id": "iHo_y-XSBl5t"
      }
    },
    {
      "cell_type": "code",
      "source": [
        "import numpy as np\n",
        "def decision_function(X, weights, bias):\n",
        "  \"\"\"\n",
        "  Compute the predicted labels for the input data.\n",
        "  Parameters:\n",
        "  - X: Features (input data) as a numpy array of shape (n_samples, n_features)\n",
        "  - weights: Updated weights after training\n",
        "  - bias: Updated bias after training\n",
        "  Returns:\n",
        "  - y_pred_all: The predicted labels for the input data\n",
        "  \"\"\"\n",
        "  predictions = np.dot(X, weights) + bias\n",
        "  y_pred_all = np.where(predictions >= 0,1,0)\n",
        "  return y_pred_all"
      ],
      "metadata": {
        "id": "iktbrWz_BuOj"
      },
      "execution_count": null,
      "outputs": []
    },
    {
      "cell_type": "code",
      "source": [
        "import numpy as np\n",
        "def train_perceptron(X, y, weights, bias, learning_rate=0.1, epochs=100):\n",
        "  \"\"\"\n",
        "  Train the perceptron using the Perceptron Learning Algorithm.\n",
        "  Parameters:\n",
        "  - X: Features (input data) as a numpy array of shape (n_samples, n_features)\n",
        "  - y: Labels (true output) as a numpy array of shape (n_samples,)\n",
        "  - weights: Initial weights as a numpy array of shape (n_features,)\n",
        "  - bias: Initial bias value (scalar)\n",
        "  - learning_rate: Learning rate for weight updates (default is 0.1)\n",
        "  - epochs: Number of iterations to train the model (default is 100)\n",
        "  Returns:\n",
        "  - weights: Updated weights after training\n",
        "  - bias: Updated bias after training\n",
        "  - accuracy: Total correct prediction.\n",
        "  \"\"\"\n",
        "  # Step 3: Perceptron Learning Algorithm\n",
        "  for epoch in range(epochs):\n",
        "    correct_predictions = 0\n",
        "\n",
        "    for i in range(len(X)):\n",
        "      prediction=np.dot(X[i], weights)+bias\n",
        "      y_pred=1 if prediction >= 0 else 0\n",
        "\n",
        "      if y_pred == y[i]:\n",
        "        correct_predictions +=1\n",
        "\n",
        "      else:\n",
        "        weights += learning_rate * (y[i] - y_pred) * X[i]\n",
        "        bias += learning_rate * (y[i] -y_pred)\n",
        "      accuracy=correct_predictions/len(X)\n",
        "  return weights, bias, accuracy"
      ],
      "metadata": {
        "id": "lanUkXnBCPsx"
      },
      "execution_count": null,
      "outputs": []
    },
    {
      "cell_type": "markdown",
      "source": [
        "# Question - 5\n",
        "**What is the purpose of the output = np.dot(X[i], weights) + bias line?**\n",
        "\n",
        "Answer: The line output = np.dot(X[i], weights) + bias line calculates the weighted sum of inputs. This helps to determine weither the input should be 0 or 1 on the step function."
      ],
      "metadata": {
        "id": "N1tXYftkDP15"
      }
    },
    {
      "cell_type": "markdown",
      "source": [
        "# Question - 6\n",
        "What happens when the prediction is wrong? How are the weights and\n",
        "bias updated? **bold text**\n",
        "\n",
        "Answer: When the prediction is wrong, the weighhts and bias are updated to reduce future errors. The weights and bias are updated according to:\n",
        "\n",
        "weights=weights+learning_rate * (y[i] - prediction) * X[i]\n",
        "bias = bias+learning_rate * (y[i] - prediction)\n"
      ],
      "metadata": {
        "id": "jW9oAJdFI-fX"
      }
    },
    {
      "cell_type": "markdown",
      "source": [
        "# Question - 7\n",
        "**Why is the final accuracy important, and what do you expect it to be?**\n",
        "\n",
        "Answer: The final accurracy show how well the model has learned to classify the training data after all the updates during training. If the data can be seperated by a line, accuracy should be 100%. If not, accuracy may be lower."
      ],
      "metadata": {
        "id": "goMwDSwjKaic"
      }
    },
    {
      "cell_type": "code",
      "source": [
        "X=np.array([\n",
        "    [2, 3],\n",
        "    [1, 5],\n",
        "    [2, 1],\n",
        "     [3, 4]\n",
        "])\n",
        "\n",
        "y=np.array([1, 1, 0, 1])\n",
        "\n",
        "weights=np.zeros(X.shape[1])\n",
        "bias=0\n",
        "\n",
        "weights, bias, accuracy = train_perceptron(X, y, weights, bias)\n",
        "\n",
        "print(\"The final weights are:\", weights)\n",
        "print(\"The final bias is:\", bias)\n",
        "print(\"The final accuracy is: \", accuracy)"
      ],
      "metadata": {
        "colab": {
          "base_uri": "https://localhost:8080/"
        },
        "id": "JRSGNCOULGvt",
        "outputId": "908c3dbc-f708-4932-fd0f-e467ab1d232d"
      },
      "execution_count": null,
      "outputs": [
        {
          "output_type": "stream",
          "name": "stdout",
          "text": [
            "The final weights are: [0. 0.]\n",
            "The final bias is: 0.0\n",
            "The final accuracy is:  0.25\n"
          ]
        }
      ]
    },
    {
      "cell_type": "code",
      "source": [
        "# Get predictions for all data points\n",
        "predictions = np.dot(X, weights) + bias\n",
        "y_pred = np.where(predictions >= 0, 1, 0)\n",
        "# Calculate final accuracy\n",
        "final_accuracy = np.mean(y_pred == y)\n",
        "print(f\"Final Accuracy: {final_accuracy:.4f}\")\n",
        "# Step 5: Visualize Misclassified Images\n",
        "misclassified_idx = np.where(y_pred != y)[0]\n",
        "\n",
        "if len(misclassified_idx) > 0:\n",
        "  print(\"\\nMisclassified Samples:\")\n",
        "  for idx in misclassified_idx:\n",
        "    print(f\"Index {idx}: Predicted={y_pred[idx]}, True={y[idx]}, Features={X[idx]}\")\n",
        "  plt.show()\n",
        "else:\n",
        "  print(\"All images were correctly classified!\")"
      ],
      "metadata": {
        "colab": {
          "base_uri": "https://localhost:8080/"
        },
        "id": "yeXvLHXJNYZk",
        "outputId": "95f3ef33-21a4-4e98-8796-c368fa4632ba"
      },
      "execution_count": null,
      "outputs": [
        {
          "output_type": "stream",
          "name": "stdout",
          "text": [
            "Final Accuracy: 0.7500\n",
            "\n",
            "Misclassified Samples:\n",
            "Index 2: Predicted=1, True=0, Features=[2 1]\n"
          ]
        }
      ]
    },
    {
      "cell_type": "markdown",
      "source": [
        "# Question - 8\n",
        "**What does misclassified idx store, and how is it used in this code?**\n",
        "\n",
        "Answer: The misclassified idx stores the indexex of the sampkes where the prediction was wrong. The misclassified idx is used to display misclassified samples by printint them in the above code."
      ],
      "metadata": {
        "id": "pRkjODvfOmtQ"
      }
    },
    {
      "cell_type": "markdown",
      "source": [
        "# Question - 9\n",
        "**How do you interpret the result if the output is ”All images were correctly classified!”?**\n",
        "\n",
        "Answer: This means that the model predicted all samples correctly on the given datasets."
      ],
      "metadata": {
        "id": "E0SP5Z6gPDaq"
      }
    },
    {
      "cell_type": "markdown",
      "source": [
        "## Task 3: Perceptron Algorithm for 3 vs 5 Classification."
      ],
      "metadata": {
        "id": "kX3rAXjhPcZA"
      }
    },
    {
      "cell_type": "code",
      "source": [
        "import numpy as np\n",
        "import pandas as pd\n",
        "import matplotlib.pyplot as plt"
      ],
      "metadata": {
        "id": "V_4-3Hw2PmK8"
      },
      "execution_count": null,
      "outputs": []
    },
    {
      "cell_type": "code",
      "source": [
        "data = pd.read_csv(\"/content/drive/MyDrive/AI/mnist_3_and_5.csv\")\n",
        "\n",
        "X=data.iloc[:, 1:].values\n",
        "y=data.iloc[:, 0].values\n",
        "\n",
        "y=np.where(y==3, 0, 1)\n",
        "\n",
        "print(f\"Dataset loaded! Number of samples: {len(y)}\")\n",
        "print(f\"Shape of X: {X.shape}, Shape of y: {y.shape}\")"
      ],
      "metadata": {
        "colab": {
          "base_uri": "https://localhost:8080/"
        },
        "id": "6KylcOd8PxLa",
        "outputId": "53b11ec4-6fd7-4c22-90ae-bebd9ef7b0b8"
      },
      "execution_count": null,
      "outputs": [
        {
          "output_type": "stream",
          "name": "stdout",
          "text": [
            "Dataset loaded! Number of samples: 2741\n",
            "Shape of X: (2741, 784), Shape of y: (2741,)\n"
          ]
        }
      ]
    },
    {
      "cell_type": "code",
      "source": [
        "X = X / 225.0"
      ],
      "metadata": {
        "id": "3lUDD29DQ3QF"
      },
      "execution_count": null,
      "outputs": []
    },
    {
      "cell_type": "code",
      "source": [
        "weights = np.zeros(X.shape[1])\n",
        "bias=0\n",
        "learning_rate=0.01\n",
        "epochs=100"
      ],
      "metadata": {
        "id": "E46p63_zQ6u2"
      },
      "execution_count": null,
      "outputs": []
    },
    {
      "cell_type": "code",
      "source": [
        "def train_perceptron(X,y, weights, bias, learning_rate=0.1, epochs=100):\n",
        "  for epoch in range(epochs):\n",
        "    correct_predictions = 0\n",
        "\n",
        "    for i in range(len(X)):\n",
        "      prediction=np.dot(X[i], weights)+bias\n",
        "      y_pred=1 if prediction >= 0 else 0\n",
        "\n",
        "      if y_pred == y[i]:\n",
        "        correct_predictions +=1\n",
        "\n",
        "      else:\n",
        "        weights += learning_rate * (y[i] - y_pred) * X[i]\n",
        "        bias += learning_rate * (y[i] - y_pred)\n",
        "\n",
        "      accuracy = correct_predictions /len(X)\n",
        "      return weights, bias, accuracy"
      ],
      "metadata": {
        "id": "ZXVLaO1vRPhn"
      },
      "execution_count": null,
      "outputs": []
    },
    {
      "cell_type": "code",
      "source": [
        "weights, bias, accuracy= train_perceptron(X, y, weights, bias, learning_rate, epochs)\n",
        "print(\"Training completed!\")\n",
        "print(\"Finale training accuracy\", accuracy)"
      ],
      "metadata": {
        "colab": {
          "base_uri": "https://localhost:8080/"
        },
        "id": "N9-4HwE3RTam",
        "outputId": "d34920b4-3c27-419a-954e-ae56ac6c84e9"
      },
      "execution_count": null,
      "outputs": [
        {
          "output_type": "stream",
          "name": "stdout",
          "text": [
            "Training completed!\n",
            "Finale training accuracy 0.00036483035388544326\n"
          ]
        }
      ]
    },
    {
      "cell_type": "code",
      "source": [
        "misclassified_idx = np.where(y_pred != y [0])\n",
        "\n",
        "if len(misclassified_idx) > 0:\n",
        "  print(f\"Number of misclassified samples: {len(misclassified_idx)}\")\n",
        "  fig, axes=plt.subplots(2, len(misclassified_idx[:5]), figsize=(10, 3))\n",
        "\n",
        "  if len(misclassified_idx)==1:\n",
        "    axes=axes.reshape(1, -1)\n",
        "\n",
        "  for ax, idx in zip(axes, misclassified_idx[:5]):\n",
        "    print(f\"Plotting index {idx}, shape {X[idx.shape]}\")\n",
        "\n",
        "    if X[idx].size == 784:\n",
        "      ax.imshow(X[idx].reshape(28, 28), cmap=\"gray\")\n",
        "      ax.set_title(f\"Pred: {y_pred[idx]}, True: {[idx]}\")\n",
        "      ax.axis(\"off\")\n",
        "\n",
        "    else:\n",
        "      print(f\"Warning: Sample at index {idx} does not have 784 features! Shape is {X[idx.shape]}\")\n",
        "\n",
        "  plt.suptitle(\"Misclassified images (3 vs 5)\")\n",
        "  plt.show()\n",
        "\n",
        "else:\n",
        "  print(\"All images were correctly classified!\")"
      ],
      "metadata": {
        "colab": {
          "base_uri": "https://localhost:8080/",
          "height": 1000
        },
        "id": "XzwVNWPnS4tr",
        "outputId": "b0032ffe-2d97-41b3-9c3d-56137639c0b8"
      },
      "execution_count": null,
      "outputs": [
        {
          "output_type": "stream",
          "name": "stdout",
          "text": [
            "Number of misclassified samples: 1\n",
            "Plotting index [], shape [0.         0.         0.         0.         0.         0.\n",
            " 0.         0.         0.         0.         0.         0.\n",
            " 0.         0.         0.         0.         0.         0.\n",
            " 0.         0.         0.         0.         0.         0.\n",
            " 0.         0.         0.         0.         0.         0.\n",
            " 0.         0.         0.         0.         0.         0.\n",
            " 0.         0.         0.         0.         0.         0.\n",
            " 0.         0.         0.         0.         0.         0.\n",
            " 0.         0.         0.         0.         0.         0.\n",
            " 0.         0.         0.         0.         0.         0.\n",
            " 0.         0.         0.         0.         0.         0.\n",
            " 0.         0.         0.         0.         0.         0.\n",
            " 0.         0.         0.         0.         0.         0.\n",
            " 0.         0.         0.         0.         0.         0.\n",
            " 0.         0.         0.         0.         0.         0.\n",
            " 0.         0.         0.         0.         0.         0.\n",
            " 0.         0.         0.         0.         0.         0.\n",
            " 0.         0.         0.         0.         0.         0.\n",
            " 0.         0.         0.         0.         0.         0.\n",
            " 0.         0.         0.         0.         0.         0.\n",
            " 0.         0.         0.         0.         0.         0.\n",
            " 0.         0.         0.         0.         0.         0.\n",
            " 0.         0.         0.         0.         0.         0.\n",
            " 0.         0.         0.         0.         0.         0.\n",
            " 0.         0.         0.         0.         0.         0.\n",
            " 0.         0.         0.01333333 0.08       0.08       0.08\n",
            " 0.56       0.60444444 0.77777778 0.11555556 0.73777778 1.13333333\n",
            " 1.09777778 0.56444444 0.         0.         0.         0.\n",
            " 0.         0.         0.         0.         0.         0.\n",
            " 0.         0.         0.13333333 0.16       0.41777778 0.68444444\n",
            " 0.75555556 1.12444444 1.12444444 1.12444444 1.12444444 1.12444444\n",
            " 1.         0.76444444 1.12444444 1.07555556 0.86666667 0.28444444\n",
            " 0.         0.         0.         0.         0.         0.\n",
            " 0.         0.         0.         0.         0.         0.21777778\n",
            " 1.05777778 1.12444444 1.12444444 1.12444444 1.12444444 1.12444444\n",
            " 1.12444444 1.12444444 1.12444444 1.11555556 0.41333333 0.36444444\n",
            " 0.36444444 0.24888889 0.17333333 0.         0.         0.\n",
            " 0.         0.         0.         0.         0.         0.\n",
            " 0.         0.         0.         0.08       0.97333333 1.12444444\n",
            " 1.12444444 1.12444444 1.12444444 1.12444444 0.88       0.80888889\n",
            " 1.09777778 1.07111111 0.         0.         0.         0.\n",
            " 0.         0.         0.         0.         0.         0.\n",
            " 0.         0.         0.         0.         0.         0.\n",
            " 0.         0.         0.35555556 0.69333333 0.47555556 1.12444444\n",
            " 1.12444444 0.91111111 0.04888889 0.         0.19111111 0.68444444\n",
            " 0.         0.         0.         0.         0.         0.\n",
            " 0.         0.         0.         0.         0.         0.\n",
            " 0.         0.         0.         0.         0.         0.\n",
            " 0.         0.06222222 0.00444444 0.68444444 1.12444444 0.4\n",
            " 0.         0.         0.         0.         0.         0.\n",
            " 0.         0.         0.         0.         0.         0.\n",
            " 0.         0.         0.         0.         0.         0.\n",
            " 0.         0.         0.         0.         0.         0.\n",
            " 0.         0.61777778 1.12444444 0.84444444 0.00888889 0.\n",
            " 0.         0.         0.         0.         0.         0.\n",
            " 0.         0.         0.         0.         0.         0.\n",
            " 0.         0.         0.         0.         0.         0.\n",
            " 0.         0.         0.         0.         0.         0.04888889\n",
            " 0.84444444 1.12444444 0.31111111 0.         0.         0.\n",
            " 0.         0.         0.         0.         0.         0.\n",
            " 0.         0.         0.         0.         0.         0.\n",
            " 0.         0.         0.         0.         0.         0.\n",
            " 0.         0.         0.         0.         0.15555556 1.07111111\n",
            " 1.         0.71111111 0.48       0.00444444 0.         0.\n",
            " 0.         0.         0.         0.         0.         0.\n",
            " 0.         0.         0.         0.         0.         0.\n",
            " 0.         0.         0.         0.         0.         0.\n",
            " 0.         0.         0.         0.36       1.06666667 1.12444444\n",
            " 1.12444444 0.52888889 0.11111111 0.         0.         0.\n",
            " 0.         0.         0.         0.         0.         0.\n",
            " 0.         0.         0.         0.         0.         0.\n",
            " 0.         0.         0.         0.         0.         0.\n",
            " 0.         0.         0.2        0.82666667 1.12444444 1.12444444\n",
            " 0.66666667 0.12       0.         0.         0.         0.\n",
            " 0.         0.         0.         0.         0.         0.\n",
            " 0.         0.         0.         0.         0.         0.\n",
            " 0.         0.         0.         0.         0.         0.\n",
            " 0.         0.07111111 0.41333333 1.12       1.12444444 0.83111111\n",
            " 0.         0.         0.         0.         0.         0.\n",
            " 0.         0.         0.         0.         0.         0.\n",
            " 0.         0.         0.         0.         0.         0.\n",
            " 0.         0.         0.         0.         0.         0.\n",
            " 0.         1.10666667 1.12444444 1.10666667 0.28444444 0.\n",
            " 0.         0.         0.         0.         0.         0.\n",
            " 0.         0.         0.         0.         0.         0.\n",
            " 0.         0.         0.         0.         0.         0.\n",
            " 0.         0.         0.20444444 0.57777778 0.81333333 1.12444444\n",
            " 1.12444444 0.92       0.00888889 0.         0.         0.\n",
            " 0.         0.         0.         0.         0.         0.\n",
            " 0.         0.         0.         0.         0.         0.\n",
            " 0.         0.         0.         0.         0.17333333 0.65777778\n",
            " 1.01777778 1.12444444 1.12444444 1.12444444 1.11111111 0.80888889\n",
            " 0.         0.         0.         0.         0.         0.\n",
            " 0.         0.         0.         0.         0.         0.\n",
            " 0.         0.         0.         0.         0.         0.\n",
            " 0.10666667 0.50666667 0.98222222 1.12444444 1.12444444 1.12444444\n",
            " 1.12444444 0.89333333 0.34666667 0.         0.         0.\n",
            " 0.         0.         0.         0.         0.         0.\n",
            " 0.         0.         0.         0.         0.         0.\n",
            " 0.         0.         0.10222222 0.29333333 0.94666667 1.12444444\n",
            " 1.12444444 1.12444444 1.12444444 0.88       0.36       0.00888889\n",
            " 0.         0.         0.         0.         0.         0.\n",
            " 0.         0.         0.         0.         0.         0.\n",
            " 0.         0.         0.         0.         0.08       0.76\n",
            " 0.97333333 1.12444444 1.12444444 1.12444444 1.12444444 0.86666667\n",
            " 0.35555556 0.04       0.         0.         0.         0.\n",
            " 0.         0.         0.         0.         0.         0.\n",
            " 0.         0.         0.         0.         0.         0.\n",
            " 0.24444444 0.76444444 1.00444444 1.12444444 1.12444444 1.12444444\n",
            " 1.12444444 1.08444444 0.59111111 0.04888889 0.         0.\n",
            " 0.         0.         0.         0.         0.         0.\n",
            " 0.         0.         0.         0.         0.         0.\n",
            " 0.         0.         0.         0.         0.60444444 1.12444444\n",
            " 1.12444444 1.12444444 0.94222222 0.6        0.58666667 0.07111111\n",
            " 0.         0.         0.         0.         0.         0.\n",
            " 0.         0.         0.         0.         0.         0.\n",
            " 0.         0.         0.         0.         0.         0.\n",
            " 0.         0.         0.         0.         0.         0.\n",
            " 0.         0.         0.         0.         0.         0.\n",
            " 0.         0.         0.         0.         0.         0.\n",
            " 0.         0.         0.         0.         0.         0.\n",
            " 0.         0.         0.         0.         0.         0.\n",
            " 0.         0.         0.         0.         0.         0.\n",
            " 0.         0.         0.         0.         0.         0.\n",
            " 0.         0.         0.         0.         0.         0.\n",
            " 0.         0.         0.         0.         0.         0.\n",
            " 0.         0.         0.         0.         0.         0.\n",
            " 0.         0.         0.         0.         0.         0.\n",
            " 0.         0.         0.         0.         0.         0.\n",
            " 0.         0.         0.         0.         0.         0.\n",
            " 0.         0.         0.         0.        ]\n",
            "Warning: Sample at index [] does not have 784 features! Shape is [0.         0.         0.         0.         0.         0.\n",
            " 0.         0.         0.         0.         0.         0.\n",
            " 0.         0.         0.         0.         0.         0.\n",
            " 0.         0.         0.         0.         0.         0.\n",
            " 0.         0.         0.         0.         0.         0.\n",
            " 0.         0.         0.         0.         0.         0.\n",
            " 0.         0.         0.         0.         0.         0.\n",
            " 0.         0.         0.         0.         0.         0.\n",
            " 0.         0.         0.         0.         0.         0.\n",
            " 0.         0.         0.         0.         0.         0.\n",
            " 0.         0.         0.         0.         0.         0.\n",
            " 0.         0.         0.         0.         0.         0.\n",
            " 0.         0.         0.         0.         0.         0.\n",
            " 0.         0.         0.         0.         0.         0.\n",
            " 0.         0.         0.         0.         0.         0.\n",
            " 0.         0.         0.         0.         0.         0.\n",
            " 0.         0.         0.         0.         0.         0.\n",
            " 0.         0.         0.         0.         0.         0.\n",
            " 0.         0.         0.         0.         0.         0.\n",
            " 0.         0.         0.         0.         0.         0.\n",
            " 0.         0.         0.         0.         0.         0.\n",
            " 0.         0.         0.         0.         0.         0.\n",
            " 0.         0.         0.         0.         0.         0.\n",
            " 0.         0.         0.         0.         0.         0.\n",
            " 0.         0.         0.         0.         0.         0.\n",
            " 0.         0.         0.01333333 0.08       0.08       0.08\n",
            " 0.56       0.60444444 0.77777778 0.11555556 0.73777778 1.13333333\n",
            " 1.09777778 0.56444444 0.         0.         0.         0.\n",
            " 0.         0.         0.         0.         0.         0.\n",
            " 0.         0.         0.13333333 0.16       0.41777778 0.68444444\n",
            " 0.75555556 1.12444444 1.12444444 1.12444444 1.12444444 1.12444444\n",
            " 1.         0.76444444 1.12444444 1.07555556 0.86666667 0.28444444\n",
            " 0.         0.         0.         0.         0.         0.\n",
            " 0.         0.         0.         0.         0.         0.21777778\n",
            " 1.05777778 1.12444444 1.12444444 1.12444444 1.12444444 1.12444444\n",
            " 1.12444444 1.12444444 1.12444444 1.11555556 0.41333333 0.36444444\n",
            " 0.36444444 0.24888889 0.17333333 0.         0.         0.\n",
            " 0.         0.         0.         0.         0.         0.\n",
            " 0.         0.         0.         0.08       0.97333333 1.12444444\n",
            " 1.12444444 1.12444444 1.12444444 1.12444444 0.88       0.80888889\n",
            " 1.09777778 1.07111111 0.         0.         0.         0.\n",
            " 0.         0.         0.         0.         0.         0.\n",
            " 0.         0.         0.         0.         0.         0.\n",
            " 0.         0.         0.35555556 0.69333333 0.47555556 1.12444444\n",
            " 1.12444444 0.91111111 0.04888889 0.         0.19111111 0.68444444\n",
            " 0.         0.         0.         0.         0.         0.\n",
            " 0.         0.         0.         0.         0.         0.\n",
            " 0.         0.         0.         0.         0.         0.\n",
            " 0.         0.06222222 0.00444444 0.68444444 1.12444444 0.4\n",
            " 0.         0.         0.         0.         0.         0.\n",
            " 0.         0.         0.         0.         0.         0.\n",
            " 0.         0.         0.         0.         0.         0.\n",
            " 0.         0.         0.         0.         0.         0.\n",
            " 0.         0.61777778 1.12444444 0.84444444 0.00888889 0.\n",
            " 0.         0.         0.         0.         0.         0.\n",
            " 0.         0.         0.         0.         0.         0.\n",
            " 0.         0.         0.         0.         0.         0.\n",
            " 0.         0.         0.         0.         0.         0.04888889\n",
            " 0.84444444 1.12444444 0.31111111 0.         0.         0.\n",
            " 0.         0.         0.         0.         0.         0.\n",
            " 0.         0.         0.         0.         0.         0.\n",
            " 0.         0.         0.         0.         0.         0.\n",
            " 0.         0.         0.         0.         0.15555556 1.07111111\n",
            " 1.         0.71111111 0.48       0.00444444 0.         0.\n",
            " 0.         0.         0.         0.         0.         0.\n",
            " 0.         0.         0.         0.         0.         0.\n",
            " 0.         0.         0.         0.         0.         0.\n",
            " 0.         0.         0.         0.36       1.06666667 1.12444444\n",
            " 1.12444444 0.52888889 0.11111111 0.         0.         0.\n",
            " 0.         0.         0.         0.         0.         0.\n",
            " 0.         0.         0.         0.         0.         0.\n",
            " 0.         0.         0.         0.         0.         0.\n",
            " 0.         0.         0.2        0.82666667 1.12444444 1.12444444\n",
            " 0.66666667 0.12       0.         0.         0.         0.\n",
            " 0.         0.         0.         0.         0.         0.\n",
            " 0.         0.         0.         0.         0.         0.\n",
            " 0.         0.         0.         0.         0.         0.\n",
            " 0.         0.07111111 0.41333333 1.12       1.12444444 0.83111111\n",
            " 0.         0.         0.         0.         0.         0.\n",
            " 0.         0.         0.         0.         0.         0.\n",
            " 0.         0.         0.         0.         0.         0.\n",
            " 0.         0.         0.         0.         0.         0.\n",
            " 0.         1.10666667 1.12444444 1.10666667 0.28444444 0.\n",
            " 0.         0.         0.         0.         0.         0.\n",
            " 0.         0.         0.         0.         0.         0.\n",
            " 0.         0.         0.         0.         0.         0.\n",
            " 0.         0.         0.20444444 0.57777778 0.81333333 1.12444444\n",
            " 1.12444444 0.92       0.00888889 0.         0.         0.\n",
            " 0.         0.         0.         0.         0.         0.\n",
            " 0.         0.         0.         0.         0.         0.\n",
            " 0.         0.         0.         0.         0.17333333 0.65777778\n",
            " 1.01777778 1.12444444 1.12444444 1.12444444 1.11111111 0.80888889\n",
            " 0.         0.         0.         0.         0.         0.\n",
            " 0.         0.         0.         0.         0.         0.\n",
            " 0.         0.         0.         0.         0.         0.\n",
            " 0.10666667 0.50666667 0.98222222 1.12444444 1.12444444 1.12444444\n",
            " 1.12444444 0.89333333 0.34666667 0.         0.         0.\n",
            " 0.         0.         0.         0.         0.         0.\n",
            " 0.         0.         0.         0.         0.         0.\n",
            " 0.         0.         0.10222222 0.29333333 0.94666667 1.12444444\n",
            " 1.12444444 1.12444444 1.12444444 0.88       0.36       0.00888889\n",
            " 0.         0.         0.         0.         0.         0.\n",
            " 0.         0.         0.         0.         0.         0.\n",
            " 0.         0.         0.         0.         0.08       0.76\n",
            " 0.97333333 1.12444444 1.12444444 1.12444444 1.12444444 0.86666667\n",
            " 0.35555556 0.04       0.         0.         0.         0.\n",
            " 0.         0.         0.         0.         0.         0.\n",
            " 0.         0.         0.         0.         0.         0.\n",
            " 0.24444444 0.76444444 1.00444444 1.12444444 1.12444444 1.12444444\n",
            " 1.12444444 1.08444444 0.59111111 0.04888889 0.         0.\n",
            " 0.         0.         0.         0.         0.         0.\n",
            " 0.         0.         0.         0.         0.         0.\n",
            " 0.         0.         0.         0.         0.60444444 1.12444444\n",
            " 1.12444444 1.12444444 0.94222222 0.6        0.58666667 0.07111111\n",
            " 0.         0.         0.         0.         0.         0.\n",
            " 0.         0.         0.         0.         0.         0.\n",
            " 0.         0.         0.         0.         0.         0.\n",
            " 0.         0.         0.         0.         0.         0.\n",
            " 0.         0.         0.         0.         0.         0.\n",
            " 0.         0.         0.         0.         0.         0.\n",
            " 0.         0.         0.         0.         0.         0.\n",
            " 0.         0.         0.         0.         0.         0.\n",
            " 0.         0.         0.         0.         0.         0.\n",
            " 0.         0.         0.         0.         0.         0.\n",
            " 0.         0.         0.         0.         0.         0.\n",
            " 0.         0.         0.         0.         0.         0.\n",
            " 0.         0.         0.         0.         0.         0.\n",
            " 0.         0.         0.         0.         0.         0.\n",
            " 0.         0.         0.         0.         0.         0.\n",
            " 0.         0.         0.         0.         0.         0.\n",
            " 0.         0.         0.         0.        ]\n"
          ]
        },
        {
          "output_type": "display_data",
          "data": {
            "text/plain": [
              "<Figure size 1000x300 with 2 Axes>"
            ],
            "image/png": "[encoded data removed]"
          },
          "metadata": {}
        }
      ]
    }
  ]
}